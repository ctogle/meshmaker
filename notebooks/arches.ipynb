{
 "cells": [
  {
   "cell_type": "code",
   "execution_count": 1,
   "metadata": {},
   "outputs": [],
   "source": [
    "import numpy as np\n",
    "np.seterr(all='raise')\n",
    "import sys\n",
    "sys.path.append('../')\n",
    "\n",
    "from meshmaker.base import Base, Laziness\n",
    "from meshmaker.model import Model\n",
    "from meshmaker.mesh import Mesh\n",
    "from meshmaker.pmesh import ParamMesh, MetaMesh, MetaScene\n",
    "from meshmaker.seam import Seam\n",
    "from meshmaker.tform import TForm\n",
    "from meshmaker.vec3 import vec3\n",
    "from meshmaker.quat import quat\n",
    "from meshmaker.planargraph import planargraph\n",
    "#from meshmaker.geometry import batch, slide, loop_offset, loop_normal, loop_contains, isnear, near, loopO\n",
    "from meshmaker.geometry import batch, slide, isnear, near, loop_normal, bbox\n",
    "from meshmaker.mgl import show, MainShader, EdgeShader, WireShader\n",
    "from meshmaker.plt import *\n",
    "from collections import defaultdict\n",
    "import json\n",
    "from functools import partial\n",
    "\n",
    "show = partial(show, programs=[MainShader(), EdgeShader(), WireShader(color=vec3.U().yz())])"
   ]
  },
  {
   "cell_type": "code",
   "execution_count": 5,
   "metadata": {},
   "outputs": [],
   "source": [
    "class Arch:\n",
    "    \n",
    "    def __init__(self, x, y, z=0, w=0.1, d=0.1, n=8, m=8):\n",
    "        self.x, self.y, self.z, self.w, self.d, self.n, self.m = x, y, z, w, d, n, m\n",
    "\n",
    "    def _splines(self, x, y, n, dZ=1):\n",
    "        xN = loop_normal(x)\n",
    "        yN = loop_normal(y).fp()\n",
    "        seams = [Seam(u, v, n, xN, yN).loop() for u, v in zip(y, x)]\n",
    "        aaa, bbb = bbox([x for y in seams for x in y])\n",
    "        dz = (bbb.z - aaa.z)\n",
    "        dZ = vec3(1, 1, dZ / dz)\n",
    "        seams = [vec3(0, 0, aaa.z).trnps(dZ.sclps(vec3(0, 0, -aaa.z).trnps(s))) for s in seams]\n",
    "        return seams\n",
    "\n",
    "    def _feet(self):\n",
    "        x = vec3.O().ring(1, self.n, False)\n",
    "        x = vec3(self.w, self.d, 1).sclps(x)\n",
    "        y = [p.cp() for p in x]\n",
    "        y = quat.av(np.pi, vec3.Y()).rot(y)\n",
    "        x = vec3.Z(self.z).trnps(x)\n",
    "        y = vec3.Z(self.z).trnps(y)\n",
    "        q = quat.rotz(vec3.X().saxy((self.y - self.x).nrm()))\n",
    "        x = q.rot(x)\n",
    "        y = q.rot(y)\n",
    "        x = self.x.trnps(x)\n",
    "        y = self.y.trnps(y)\n",
    "        return x, y\n",
    "\n",
    "    def __call__(self):\n",
    "        arch = Mesh()\n",
    "        \n",
    "        x, y = self._feet()\n",
    "        seams = self._splines(x, y, self.m)\n",
    "        \n",
    "        seams = [[arch.av(p) for p in s] for s in seams]\n",
    "        arch.bridges(seams, m=0, n=1)\n",
    "        \n",
    "        #uv_seams = [list(slide(s, 2, 1)) for s in seams]\n",
    "        #uv_seams = set([tuple(x) for y in uv_seams for x in y])\n",
    "        #mesh.uvs = mesh.vertex_uvs(seams=uv_seams)\n",
    "        arch.normals = arch.vertex_normals(smooth=True)\n",
    "        \n",
    "        return arch"
   ]
  },
  {
   "cell_type": "code",
   "execution_count": 6,
   "metadata": {},
   "outputs": [],
   "source": [
    "class WallGraph:\n",
    "    \n",
    "    def __init__(self):\n",
    "        self.pg = planargraph()\n",
    "        \n",
    "    def aa(self, u, v, **arch):\n",
    "        u = self.pg.nv(u, column=False)\n",
    "        v = self.pg.nv(v, column=False)\n",
    "        return self.pg.ne(u, v, arch=True, **arch)\n",
    "        \n",
    "    def aw(self, u, v, **wall):\n",
    "        u = self.pg.nv(u, column=False)\n",
    "        v = self.pg.nv(v, column=False)\n",
    "        return self.pg.ne(u, v, arch=False, **wall)\n",
    "        \n",
    "    def ac(self, u, **column):\n",
    "        return self.pg.nv(u, column=True, **column)\n",
    "        \n",
    "    @staticmethod\n",
    "    def _column(v):\n",
    "        bottom = v.ring(v.properties.get('r', 0.1),\n",
    "                        v.properties.get('n', 4),\n",
    "                        inscribe=False)\n",
    "        top = vec3.Z(v.properties.get('z', 1)).trnps([p.cp() for p in bottom])\n",
    "        column = Mesh()\n",
    "        column.bridge(bottom, top)\n",
    "        column.normals = column.vertex_normals(smooth=True)\n",
    "        return TForm.from_meshes(column, texture='generic_11')\n",
    "        \n",
    "    @staticmethod\n",
    "    def _wall(u, v, edge):\n",
    "        z = edge.get('z', 1)\n",
    "        dZ = vec3.Z(z)\n",
    "        dN = vec3.Z().crs((u - v).nrm()).scl(edge.get('w', 0.1))\n",
    "        left = [u + dN, v + dN, v + dZ + dN, u + dZ + dN]\n",
    "        right = [p - (dN * 2) for p in left]\n",
    "        right.reverse()\n",
    "        wall = Mesh()\n",
    "        wall.af(left)\n",
    "        wall.af(right)\n",
    "        wall.af([left[3], left[2], right[1], right[0]])\n",
    "        return TForm.from_meshes(wall, texture='generic_12')\n",
    "        \n",
    "    def scene(self):\n",
    "        tf = TForm()\n",
    "        for i, v in enumerate(self.pg.vertices):\n",
    "            if v is None or v.properties.get('column', False) is False:\n",
    "                continue\n",
    "            column = self._column(v)\n",
    "            tf.add(column)\n",
    "        for i, j, edge in self.pg.edges:\n",
    "            u, v = self.pg.vertices[i].cp(), self.pg.vertices[j].cp()\n",
    "            isarch = edge.pop('arch')\n",
    "            if isarch:\n",
    "                arch = Arch(u, v, **edge)()\n",
    "                tf.add(TForm.from_meshes(arch, texture='generic_16'))\n",
    "            else:\n",
    "                wall = self._wall(u, v, edge)\n",
    "                tf.add(wall)\n",
    "        return tf"
   ]
  },
  {
   "cell_type": "code",
   "execution_count": 7,
   "metadata": {},
   "outputs": [
    {
     "ename": "TypeError",
     "evalue": "'Arch' object is not iterable",
     "output_type": "error",
     "traceback": [
      "\u001b[0;31m---------------------------------------------------------------------------\u001b[0m",
      "\u001b[0;31mTypeError\u001b[0m                                 Traceback (most recent call last)",
      "\u001b[0;32m<ipython-input-7-72189277329d>\u001b[0m in \u001b[0;36m<module>\u001b[0;34m\u001b[0m\n\u001b[0;32m----> 1\u001b[0;31m \u001b[0mshow\u001b[0m\u001b[0;34m(\u001b[0m\u001b[0mArch\u001b[0m\u001b[0;34m(\u001b[0m\u001b[0mvec3\u001b[0m\u001b[0;34m(\u001b[0m\u001b[0;34m-\u001b[0m\u001b[0;36m1\u001b[0m\u001b[0;34m,\u001b[0m \u001b[0;36m0\u001b[0m\u001b[0;34m,\u001b[0m \u001b[0;36m0\u001b[0m\u001b[0;34m)\u001b[0m\u001b[0;34m,\u001b[0m \u001b[0mvec3\u001b[0m\u001b[0;34m(\u001b[0m\u001b[0;36m1\u001b[0m\u001b[0;34m,\u001b[0m \u001b[0;36m0\u001b[0m\u001b[0;34m,\u001b[0m \u001b[0;36m0\u001b[0m\u001b[0;34m)\u001b[0m\u001b[0;34m,\u001b[0m \u001b[0;36m0\u001b[0m\u001b[0;34m,\u001b[0m \u001b[0;36m0.2\u001b[0m\u001b[0;34m,\u001b[0m \u001b[0;36m0.2\u001b[0m\u001b[0;34m)\u001b[0m\u001b[0;34m)\u001b[0m\u001b[0;34m\u001b[0m\u001b[0;34m\u001b[0m\u001b[0m\n\u001b[0m",
      "\u001b[0;32m~/dev/mine/meshmaker/meshmaker/mgl.py\u001b[0m in \u001b[0;36mshow\u001b[0;34m(instance, texture_directory, screenshot_directory, **kws)\u001b[0m\n\u001b[1;32m    501\u001b[0m             \u001b[0mmodel\u001b[0m \u001b[0;34m=\u001b[0m \u001b[0mModel\u001b[0m\u001b[0;34m(\u001b[0m\u001b[0mmeshes\u001b[0m\u001b[0;34m=\u001b[0m\u001b[0;34m{\u001b[0m\u001b[0;34m'generic_0'\u001b[0m\u001b[0;34m:\u001b[0m \u001b[0;34m[\u001b[0m\u001b[0minstance\u001b[0m\u001b[0;34m]\u001b[0m\u001b[0;34m}\u001b[0m\u001b[0;34m)\u001b[0m\u001b[0;34m\u001b[0m\u001b[0;34m\u001b[0m\u001b[0m\n\u001b[1;32m    502\u001b[0m             \u001b[0mtf\u001b[0m \u001b[0;34m=\u001b[0m \u001b[0mTForm\u001b[0m\u001b[0;34m(\u001b[0m\u001b[0mmodels\u001b[0m\u001b[0;34m=\u001b[0m\u001b[0;34m[\u001b[0m\u001b[0mmodel\u001b[0m\u001b[0;34m]\u001b[0m\u001b[0;34m)\u001b[0m\u001b[0;34m\u001b[0m\u001b[0;34m\u001b[0m\u001b[0m\n\u001b[0;32m--> 503\u001b[0;31m         \u001b[0;32melif\u001b[0m \u001b[0mall\u001b[0m\u001b[0;34m(\u001b[0m\u001b[0misinstance\u001b[0m\u001b[0;34m(\u001b[0m\u001b[0mi\u001b[0m\u001b[0;34m,\u001b[0m \u001b[0mTForm\u001b[0m\u001b[0;34m)\u001b[0m \u001b[0;32mfor\u001b[0m \u001b[0mi\u001b[0m \u001b[0;32min\u001b[0m \u001b[0minstance\u001b[0m\u001b[0;34m)\u001b[0m\u001b[0;34m:\u001b[0m\u001b[0;34m\u001b[0m\u001b[0;34m\u001b[0m\u001b[0m\n\u001b[0m\u001b[1;32m    504\u001b[0m             \u001b[0mtf\u001b[0m \u001b[0;34m=\u001b[0m \u001b[0mTForm\u001b[0m\u001b[0;34m(\u001b[0m\u001b[0mchildren\u001b[0m\u001b[0;34m=\u001b[0m\u001b[0minstance\u001b[0m\u001b[0;34m)\u001b[0m\u001b[0;34m\u001b[0m\u001b[0;34m\u001b[0m\u001b[0m\n\u001b[1;32m    505\u001b[0m         \u001b[0;32melif\u001b[0m \u001b[0mall\u001b[0m\u001b[0;34m(\u001b[0m\u001b[0misinstance\u001b[0m\u001b[0;34m(\u001b[0m\u001b[0mi\u001b[0m\u001b[0;34m,\u001b[0m \u001b[0mMesh\u001b[0m\u001b[0;34m)\u001b[0m \u001b[0;32mfor\u001b[0m \u001b[0mi\u001b[0m \u001b[0;32min\u001b[0m \u001b[0minstance\u001b[0m\u001b[0;34m)\u001b[0m\u001b[0;34m:\u001b[0m\u001b[0;34m\u001b[0m\u001b[0;34m\u001b[0m\u001b[0m\n",
      "\u001b[0;31mTypeError\u001b[0m: 'Arch' object is not iterable"
     ]
    }
   ],
   "source": [
    "show(Arch(vec3(-1, 0, 0), vec3(1, 0, 0), 0, 0.2, 0.2))"
   ]
  },
  {
   "cell_type": "code",
   "execution_count": 8,
   "metadata": {},
   "outputs": [
    {
     "name": "stdout",
     "output_type": "stream",
     "text": [
      "Building Shader 1:<meshmaker.mgl.MainShader object at 0x7fb0b57bd9e8>\n",
      "Building Shader 2:<meshmaker.mgl.EdgeShader object at 0x7fb0bf839208>\n",
      "Building Shader 3:<meshmaker.mgl.WireShader object at 0x7fb0bf839400>\n",
      "Loaded texture: generic_11 (../resources/textures/generics/generic_11.png)\n",
      "Loaded texture: generic_16 (../resources/textures/generics/generic_16.png)\n",
      "Loaded texture: generic_8 (../resources/textures/generics/generic_8.png)\n"
     ]
    }
   ],
   "source": [
    "floor = Mesh()\n",
    "floor.af(vec3.O().ring(5, 4, False))\n",
    "scene = TForm.from_meshes(floor)\n",
    "\n",
    "wg = WallGraph()\n",
    "for x, y in slide(vec3.O().ring(2, 4), 2):\n",
    "    #wg.aw(x, y, z=1, d=0.2, w=0.1, n=16)\n",
    "    wg.aa(x, y, z=1, d=0.2, w=0.2, n=16, m=32)\n",
    "    wg.ac(x.cp(), z=1, r=0.2, n=16)\n",
    "\n",
    "scene.add(wg.scene())\n",
    "\n",
    "show(MetaScene(scene))"
   ]
  },
  {
   "cell_type": "code",
   "execution_count": null,
   "metadata": {},
   "outputs": [],
   "source": []
  },
  {
   "cell_type": "code",
   "execution_count": null,
   "metadata": {},
   "outputs": [],
   "source": []
  }
 ],
 "metadata": {
  "kernelspec": {
   "display_name": "Python 3",
   "language": "python",
   "name": "python3"
  },
  "language_info": {
   "codemirror_mode": {
    "name": "ipython",
    "version": 3
   },
   "file_extension": ".py",
   "mimetype": "text/x-python",
   "name": "python",
   "nbconvert_exporter": "python",
   "pygments_lexer": "ipython3",
   "version": "3.7.1"
  }
 },
 "nbformat": 4,
 "nbformat_minor": 2
}
