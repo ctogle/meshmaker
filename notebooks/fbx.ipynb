{
 "cells": [
  {
   "cell_type": "code",
   "execution_count": 1,
   "metadata": {},
   "outputs": [],
   "source": [
    "import numpy as np\n",
    "np.seterr(all='raise')\n",
    "import sys\n",
    "sys.path.append('../')\n",
    "\n",
    "from meshmaker.base import Base, Laziness\n",
    "from meshmaker.model import Model\n",
    "from meshmaker.mesh import Mesh\n",
    "from meshmaker.pmesh import ParamMesh, MetaMesh, MetaScene\n",
    "from meshmaker.meta import Railing, Stairs\n",
    "from meshmaker.tform import TForm\n",
    "from meshmaker.vec3 import vec3\n",
    "from meshmaker.quat import quat\n",
    "from meshmaker.loop import loops as Loops\n",
    "from meshmaker.delaunay import triangulation\n",
    "from meshmaker.planargraph import planargraph\n",
    "from meshmaker.geometry import batch, slide, isnear, near, bbox, sintsxyp\n",
    "from meshmaker.mgl import show, MainShader, EdgeShader, WireShader, LazyMaterials\n",
    "from meshmaker.plt import *\n",
    "from collections import defaultdict\n",
    "from functools import partial, reduce\n",
    "from itertools import cycle\n",
    "import json\n",
    "\n",
    "show = partial(show, programs=[MainShader(), EdgeShader(), WireShader(color=vec3.U(0.1))], background=vec3.U(0.5))"
   ]
  },
  {
   "cell_type": "code",
   "execution_count": 3,
   "metadata": {},
   "outputs": [
    {
     "name": "stdout",
     "output_type": "stream",
     "text": [
      "Loaded texture: generic_0 (../resources/textures/generics/generic_0.png)\n"
     ]
    }
   ],
   "source": [
    "a = Mesh.cube_mesh(1)\n",
    "b = a.cp()\n",
    "vec3.U().trnps(b.vertices)\n",
    "\n",
    "show((a, b))"
   ]
  },
  {
   "cell_type": "code",
   "execution_count": null,
   "metadata": {},
   "outputs": [],
   "source": []
  }
 ],
 "metadata": {
  "kernelspec": {
   "display_name": "Python 3",
   "language": "python",
   "name": "python3"
  },
  "language_info": {
   "codemirror_mode": {
    "name": "ipython",
    "version": 3
   },
   "file_extension": ".py",
   "mimetype": "text/x-python",
   "name": "python",
   "nbconvert_exporter": "python",
   "pygments_lexer": "ipython3",
   "version": "3.7.1"
  }
 },
 "nbformat": 4,
 "nbformat_minor": 2
}
