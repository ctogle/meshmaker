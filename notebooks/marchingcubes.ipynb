{
 "cells": [
  {
   "cell_type": "code",
   "execution_count": 1,
   "metadata": {},
   "outputs": [],
   "source": [
    "import numpy as np\n",
    "np.seterr(all='raise')\n",
    "import sys\n",
    "sys.path.append('../')\n",
    "\n",
    "from meshmaker.base import Base, Laziness\n",
    "from meshmaker.model import Model\n",
    "from meshmaker.mesh import Mesh\n",
    "from meshmaker.pmesh import ParamMesh, MetaMesh, MetaScene, WireMesh\n",
    "from meshmaker.meta import Stairs, Railings\n",
    "from meshmaker.seam import Seam\n",
    "from meshmaker.tform import TForm\n",
    "from meshmaker.loop import Loops\n",
    "from meshmaker.vec3 import vec3\n",
    "from meshmaker.quat import quat\n",
    "from meshmaker.planargraph import planargraph\n",
    "#from meshmaker.geometry import batch, slide, loop_offset, loop_normal, loop_contains, isnear, near, loopO\n",
    "from meshmaker.geometry import batch, slide, isnear, near, loop_normal, bbox\n",
    "from meshmaker.mgl import show, MainShader, EdgeShader, WireShader\n",
    "from meshmaker.plt import *\n",
    "from collections import defaultdict\n",
    "import json\n",
    "from functools import partial\n",
    "from contextlib import contextmanager\n",
    "import itertools as it\n",
    "\n",
    "show = partial(show, programs=[MainShader(), EdgeShader(), WireShader(color=vec3.X())])"
   ]
  },
  {
   "cell_type": "code",
   "execution_count": null,
   "metadata": {},
   "outputs": [],
   "source": [
    "class cube:\n",
    "    \n",
    "    "
   ]
  },
  {
   "cell_type": "code",
   "execution_count": null,
   "metadata": {},
   "outputs": [],
   "source": [
    "# table for how many polygons are required given the case number 2**8 possibilities\n",
    "\n",
    "# "
   ]
  },
  {
   "cell_type": "code",
   "execution_count": 10,
   "metadata": {},
   "outputs": [
    {
     "name": "stdout",
     "output_type": "stream",
     "text": [
      "0.10000000000000009 -2.0\n",
      "voila\n",
      "Building Shader 1:<meshmaker.mgl.MainShader object at 0x7fe8f40c2b00>\n",
      "Building Shader 2:<meshmaker.mgl.EdgeShader object at 0x7fe8f40c2c18>\n",
      "Building Shader 3:<meshmaker.mgl.WireShader object at 0x7fe8f7119b70>\n",
      "Loaded texture: generic_0 (../resources/textures/generics/generic_0.png)\n"
     ]
    }
   ],
   "source": [
    "c = Mesh.lattice()\n",
    "\n",
    "def march(self, field):\n",
    "    print('voila')\n",
    "\n",
    "    mesh = Mesh()\n",
    "    \n",
    "    for i in range(self._X.shape[0]):\n",
    "        for j in range(self._Y.shape[0]):\n",
    "            for k in range(self._Z.shape[0]):\n",
    "                \n",
    "    \n",
    "    return self\n",
    "    \n",
    "def lattice_field(x, y, z):\n",
    "    X, Y, Z = np.meshgrid(x, y, z)\n",
    "    \n",
    "    f = X ** 2 + y ** 2 + 0.1 * z - 2\n",
    "    \n",
    "    def eigen(p):\n",
    "        xi = max(min(len(x) - 1, int(p.x)), 0)\n",
    "        yi = max(min(len(y) - 1, int(p.y)), 0)\n",
    "        zi = max(min(len(z) - 1, int(p.z)), 0)\n",
    "        return f[xi, yi, zi]\n",
    "    \n",
    "    return eigen\n",
    "\n",
    "fd = lattice_field(c._X, c._Y, c._Z)\n",
    "\n",
    "print(fd(vec3.U(2)), fd(vec3.U(1)))\n",
    "\n",
    "show(march(c, fd))"
   ]
  },
  {
   "cell_type": "code",
   "execution_count": null,
   "metadata": {},
   "outputs": [],
   "source": []
  }
 ],
 "metadata": {
  "kernelspec": {
   "display_name": "Python 3",
   "language": "python",
   "name": "python3"
  },
  "language_info": {
   "codemirror_mode": {
    "name": "ipython",
    "version": 3
   },
   "file_extension": ".py",
   "mimetype": "text/x-python",
   "name": "python",
   "nbconvert_exporter": "python",
   "pygments_lexer": "ipython3",
   "version": "3.7.1"
  }
 },
 "nbformat": 4,
 "nbformat_minor": 2
}
