{
 "cells": [
  {
   "cell_type": "code",
   "execution_count": 1,
   "metadata": {},
   "outputs": [],
   "source": [
    "import numpy as np\n",
    "np.seterr(all='raise')\n",
    "import sys\n",
    "sys.path.append('../')\n",
    "\n",
    "from meshmaker.base import Base, Laziness\n",
    "from meshmaker.model import Model\n",
    "from meshmaker.mesh import Mesh\n",
    "from meshmaker.pmesh import ParamMesh, MetaMesh, WireMesh, MetaScene\n",
    "from meshmaker.meta import Stairs, Railing\n",
    "from meshmaker.seam import Seam\n",
    "from meshmaker.tform import TForm\n",
    "from meshmaker.loop import Loops\n",
    "from meshmaker.vec3 import vec3\n",
    "from meshmaker.quat import quat\n",
    "from meshmaker.planargraph import planargraph\n",
    "#from meshmaker.geometry import batch, slide, loop_offset, loop_normal, loop_contains, isnear, near, loopO\n",
    "from meshmaker.geometry import batch, slide, isnear, near, loop_normal, bbox\n",
    "from meshmaker.mgl import show, MainShader, EdgeShader, WireShader\n",
    "from meshmaker.plt import *\n",
    "from collections import defaultdict\n",
    "import json\n",
    "from functools import partial\n",
    "\n",
    "show = partial(show, programs=[MainShader(), EdgeShader(), WireShader(color=vec3.X())])"
   ]
  },
  {
   "cell_type": "code",
   "execution_count": 2,
   "metadata": {},
   "outputs": [],
   "source": [
    "class Stairs(MetaMesh):\n",
    "    \n",
    "    def steps(self, lb, rb):\n",
    "        h = lb[1].d(lb[0]) \n",
    "        z = lb[1].z - lb[0].z\n",
    "        t = np.arccos(z / h)\n",
    "        steps = Mesh()\n",
    "        steps.uvs = {}\n",
    "        for (aa, bb), (cc, dd) in slide(list(zip(lb, rb)), 2, 1):\n",
    "            dX = vec3.Z().crs(bb - aa).nrm() * (h * np.sin(t))\n",
    "            dZ = vec3.Z(lb[1].z - lb[0].z)\n",
    "            assert dd.z > aa.z, 'Stair splines must point upward!'\n",
    "            front = steps.af([aa, bb, bb + vec3.Z(dd.z - bb.z), aa + vec3.Z(cc.z - aa.z)])\n",
    "            top   = steps.af([aa + vec3.Z(cc.z - aa.z), bb + vec3.Z(dd.z - bb.z), dd, cc])\n",
    "            lside = steps.af([aa, aa + vec3.Z(cc.z - aa.z), cc])\n",
    "            rside = steps.af([dd, bb + vec3.Z(dd.z - bb.z), bb])\n",
    "            seams = steps.perimeter((front, top))\n",
    "            steps.unwrap_uvs(top, O=(aa + vec3.Z(cc.z - aa.z), vec3.O()), S=vec3.U(2),\n",
    "                             seams=seams, uvs=steps.uvs)            \n",
    "        return TForm.from_meshes(steps)\n",
    "    \n",
    "    def ramp(self, lb, rb, dz=-0.1):\n",
    "        dz = vec3.Z(dz)        \n",
    "        ramp = Mesh()\n",
    "        ramp.af([lb[ 0] + dz, rb[ 0] + dz, rb[ 0], lb[ 0]])\n",
    "        ramp.af([rb[-1] + dz, lb[-1] + dz, lb[-1], rb[-1]])\n",
    "        for ((aa, bb), (cc, dd)) in slide(list(zip(lb, rb)), 2, 1):\n",
    "            ramp.af([cc, aa, bb, dd])\n",
    "            ramp.af([aa + dz, cc + dz, dd + dz, bb + dz])\n",
    "            ramp.af([cc + dz, aa + dz, aa, cc])\n",
    "            ramp.af([dd + dz, dd, bb, bb + dz])\n",
    "        ramp.uvs = ramp.vertex_uvs(\n",
    "            O=(lb[0], vec3.O()), S=vec3.U() * 2,\n",
    "            seams=ramp.angle_seams())\n",
    "        return TForm.from_meshes(ramp, texture='generic_13')\n",
    "    \n",
    "    def splines(self, a, b, c, d, stepheight=0.1, lmargin=0.001, rmargin=0.001):\n",
    "        r = a.d(d)\n",
    "        z = d.z - a.z\n",
    "        n = int(abs(z) / stepheight)        \n",
    "        N = loop_normal([a, b, c, d])\n",
    "        \n",
    "        ldu = N.crs(b - a).nrm()\n",
    "        ldv = N.crs(d - c).nrm()\n",
    "        rdu = ldu.cp()\n",
    "        rdv = ldv.cp()\n",
    "\n",
    "        dw = (d - a).crs(vec3.Z()).nrm().scl(lmargin)\n",
    "        lb = Seam((a + dw), (d + dw), n, ldu, ldv).loop()\n",
    "\n",
    "        dw = (d - a).crs(vec3.Z()).nrm().scl(rmargin)\n",
    "        rb = Seam((b - dw), (c - dw), n, rdu, rdv).loop()\n",
    "\n",
    "        if z < 0:\n",
    "            lb.reverse()\n",
    "            rb.reverse()\n",
    "\n",
    "        return lb, rb\n",
    "    \n",
    "    def scene(self):\n",
    "        vs, fs = self.control.vertices, self.control.faces\n",
    "        scene = TForm()\n",
    "        for i, ((a, b), (c, d)) in enumerate(self.control._stairs):\n",
    "            a, b, c, d = vs[a], vs[b], vs[c], vs[d]\n",
    "            lb, rb = self.splines(a, b, d, c)\n",
    "            scene.add(self.ramp(lb, rb))            \n",
    "            if not (isnear(a.z, c.z) and isnear(b.z, d.z)):\n",
    "                scene.add(self.steps(lb, rb))\n",
    "        return scene\n",
    "\n",
    "    \n",
    "class Railings(MetaMesh):\n",
    "    \n",
    "    def railing(self, a, b, dz=0.4, dw=0.02):\n",
    "        dz = vec3.Z(dz)\n",
    "        railing = Mesh.prism([a, b, b + dz, a + dz], dw, 2)\n",
    "        railing.uvs = railing.vertex_uvs(\n",
    "            O=(a, vec3.O()), S=vec3.U() * 2,\n",
    "            seams=railing.angle_seams())\n",
    "        return TForm.from_meshes(railing, texture='generic_9')\n",
    "\n",
    "    def scene(self):\n",
    "        vs, fs = self.control.vertices, self.control.faces\n",
    "        scene = TForm()\n",
    "        for i, (a, b) in enumerate(self.control._railings):\n",
    "            scene.add(self.railing(vs[a], vs[b]))\n",
    "        return scene"
   ]
  },
  {
   "cell_type": "code",
   "execution_count": 3,
   "metadata": {},
   "outputs": [
    {
     "name": "stdout",
     "output_type": "stream",
     "text": [
      "Building Shader 1:<meshmaker.mgl.MainShader object at 0x7f1173f13d68>\n",
      "Building Shader 2:<meshmaker.mgl.EdgeShader object at 0x7f1173f13f98>\n",
      "Building Shader 3:<meshmaker.mgl.WireShader object at 0x7f1173fb27b8>\n",
      "Loaded texture: generic_13 (../resources/textures/generics/generic_13.png)\n",
      "Loaded texture: generic_8 (../resources/textures/generics/generic_8.png)\n"
     ]
    }
   ],
   "source": [
    "def bendy(railing_width=0.02):\n",
    "    control = Mesh.lattice()\n",
    "    av = lambda x, y, z: control.av(vec3(x, y, z))\n",
    "    control._stairs = []\n",
    "    control._railings = []\n",
    "    #control._stairs.append(((av(-1,-1,-1), av( 0,-1,-1)),\n",
    "    #                        (av( 1, 1, 0), av( 1, 0, 0))))\n",
    "    control._stairs.append(((av( 1, 1, 0), av( 1, 0, 0)),\n",
    "                            (av(-1,-1,-1), av( 0,-1,-1))))\n",
    "    #control._railings.append(((av(-1,-1,-1), av(-1, 0, 0))))\n",
    "    #control._railings.append(((av( 0, 0, 0), av( 0,-1,-1))))\n",
    "    return control\n",
    "\n",
    "control = bendy()\n",
    "show(MetaScene(TForm(metas=[Stairs(control), Railings(control), WireMesh(control)])))"
   ]
  },
  {
   "cell_type": "code",
   "execution_count": 12,
   "metadata": {},
   "outputs": [
    {
     "name": "stdout",
     "output_type": "stream",
     "text": [
      "Building Shader 1:<meshmaker.mgl.MainShader object at 0x7f1173f13d68>\n",
      "Building Shader 2:<meshmaker.mgl.EdgeShader object at 0x7f1173f13f98>\n",
      "Building Shader 3:<meshmaker.mgl.WireShader object at 0x7f1173fb27b8>\n",
      "Loaded texture: generic_13 (../resources/textures/generics/generic_13.png)\n",
      "Loaded texture: generic_8 (../resources/textures/generics/generic_8.png)\n",
      "Loaded texture: generic_9 (../resources/textures/generics/generic_9.png)\n"
     ]
    }
   ],
   "source": [
    "class Prefabs:\n",
    "    \n",
    "    def _lattice(self, nx, ny, nz):\n",
    "        c = Mesh.lattice(nx, ny, nz)\n",
    "        c._stairs = []\n",
    "        c._railings = []\n",
    "        return c\n",
    "\n",
    "    def _tf(self, c, **kws):\n",
    "        return TForm(metas=[Stairs(c), Railings(c), WireMesh(c)], **kws)\n",
    "    \n",
    "    def _3x3x3_z0(self, **kws):\n",
    "        c = self._lattice(3, 3, 3)\n",
    "        v = lambda x, y, z: c._fp(vec3(x, y, z))\n",
    "        c._stairs.append(((v(-1,-1,-1), v( 1,-1,-1)), (v(-1, 1,-1), v( 1, 1,-1))))\n",
    "        return self._tf(c, **kws)\n",
    "\n",
    "    def _3x3x3_switchback(self, **kws):\n",
    "        return self._tf(switchback(), **kws)\n",
    "    \n",
    "pf = Prefabs()\n",
    "tf = TForm()\n",
    "\n",
    "tf.add(pf._3x3x3_z0(t=vec3( 0, 0, 0)))\n",
    "tf.add(pf._3x3x3_switchback(t=vec3( 2, 0, 0)))\n",
    "\n",
    "show(MetaScene(tf))"
   ]
  },
  {
   "cell_type": "code",
   "execution_count": 7,
   "metadata": {},
   "outputs": [
    {
     "name": "stdout",
     "output_type": "stream",
     "text": [
      "Building Shader 1:<meshmaker.mgl.MainShader object at 0x7f2ee47a6630>\n",
      "Building Shader 2:<meshmaker.mgl.EdgeShader object at 0x7f2ee47a6c88>\n",
      "Building Shader 3:<meshmaker.mgl.WireShader object at 0x7f2ee47af3c8>\n",
      "Loaded texture: generic_13 (../resources/textures/generics/generic_13.png)\n",
      "Loaded texture: generic_8 (../resources/textures/generics/generic_8.png)\n"
     ]
    }
   ],
   "source": [
    "control = Mesh.cube_mesh()\n",
    "control._stairs = [((0, 1), (7, 6))]\n",
    "#control._stairs = [((6, 7), (1, 0))]\n",
    "control._railings = []\n",
    "stairs = Stairs(control)\n",
    "show(MetaScene(TForm(metas=[stairs, WireMesh(control)])))"
   ]
  },
  {
   "cell_type": "code",
   "execution_count": 4,
   "metadata": {},
   "outputs": [
    {
     "name": "stdout",
     "output_type": "stream",
     "text": [
      "Building Shader 1:<meshmaker.mgl.MainShader object at 0x7f0ddc536ef0>\n",
      "Building Shader 2:<meshmaker.mgl.EdgeShader object at 0x7f0ddc536470>\n",
      "Building Shader 3:<meshmaker.mgl.WireShader object at 0x7f0ddc52f9b0>\n",
      "Loaded texture: generic_13 (../resources/textures/generics/generic_13.png)\n",
      "Loaded texture: generic_8 (../resources/textures/generics/generic_8.png)\n"
     ]
    }
   ],
   "source": [
    "control = Mesh.cube_mesh()\n",
    "control._stairs = [((0, 1), (7, 6))]\n",
    "#control._stairs = [((6, 7), (1, 0))]\n",
    "control._railings = []\n",
    "stairs = Stairs(control)\n",
    "show(MetaScene(TForm(metas=[stairs, WireMesh(control)])))"
   ]
  },
  {
   "cell_type": "code",
   "execution_count": 5,
   "metadata": {},
   "outputs": [
    {
     "name": "stdout",
     "output_type": "stream",
     "text": [
      "Building Shader 1:<meshmaker.mgl.MainShader object at 0x7f0ddc536ef0>\n",
      "Building Shader 2:<meshmaker.mgl.EdgeShader object at 0x7f0ddc536470>\n",
      "Building Shader 3:<meshmaker.mgl.WireShader object at 0x7f0ddc52f9b0>\n",
      "Loaded texture: generic_13 (../resources/textures/generics/generic_13.png)\n",
      "Loaded texture: generic_8 (../resources/textures/generics/generic_8.png)\n",
      "Loaded texture: generic_9 (../resources/textures/generics/generic_9.png)\n"
     ]
    }
   ],
   "source": [
    "def escape(railing_width=0.02):\n",
    "    control = Mesh.lattice(5, 2, 2)\n",
    "    \n",
    "    av = lambda x, y, z: control.av(vec3(x, y, z))\n",
    "\n",
    "    control._stairs = []\n",
    "    control._railings = []\n",
    "\n",
    "    control._stairs.append(((av(  -1, 1,-1), av(  -1,-1,-1)),\n",
    "                            (av(-0.5, 1,-1), av(-0.5,-1,-1))))\n",
    "    control._railings.append(((av(  -1,-1 + railing_width * 4,-1), av(-1, 1,-1))))\n",
    "    control._railings.append(((av(-0.5,-1,-1), av(-1,-1,-1))))\n",
    "\n",
    "    control._stairs.append(((av(-0.5, 1,-1), av(-0.5,-1,-1)),\n",
    "                            (av( 0.5, 1, 1), av( 0.5,-1, 1))))\n",
    "    control._railings.append(((av( 0.5,-1, 1), av(-0.5,-1,-1))))\n",
    "    control._railings.append(((av(-0.5, 1,-1), av( 0.5, 1, 1))))\n",
    "\n",
    "    control._stairs.append(((av( 0.5, 1, 1), av( 0.5,-1, 1)),\n",
    "                            (av(   1, 1, 1), av(   1,-1, 1))))\n",
    "    control._railings.append(((av( 1, 1, 1), av(   1,-1 + railing_width * 4, 1))))\n",
    "    control._railings.append(((av( 1,-1, 1), av( 0.5,-1, 1))))\n",
    "    \n",
    "    return control\n",
    "\n",
    "control = escape()\n",
    "vec3(1, 0.25, 0.5).sclps(control.vertices)\n",
    "show(MetaScene(TForm(metas=[Stairs(control), Railings(control), WireMesh(control)])))"
   ]
  },
  {
   "cell_type": "code",
   "execution_count": 11,
   "metadata": {},
   "outputs": [
    {
     "name": "stdout",
     "output_type": "stream",
     "text": [
      "Building Shader 1:<meshmaker.mgl.MainShader object at 0x7f1173f13d68>\n",
      "Building Shader 2:<meshmaker.mgl.EdgeShader object at 0x7f1173f13f98>\n",
      "Building Shader 3:<meshmaker.mgl.WireShader object at 0x7f1173fb27b8>\n",
      "Loaded texture: generic_13 (../resources/textures/generics/generic_13.png)\n",
      "Loaded texture: generic_8 (../resources/textures/generics/generic_8.png)\n",
      "Loaded texture: generic_9 (../resources/textures/generics/generic_9.png)\n"
     ]
    }
   ],
   "source": [
    "def switchback(railing_width=0.02):\n",
    "    #control = Mesh.cube_mesh()\n",
    "    #control = control.subdivide()\n",
    "    control = Mesh.lattice()\n",
    "    \n",
    "    #av = lambda x, y, z: control._fp(vec3(x, y, z))\n",
    "    av = lambda x, y, z: control.av(vec3(x, y, z))\n",
    "    \n",
    "    control._stairs = []\n",
    "    control._railings = []\n",
    "\n",
    "    # bottom ramp\n",
    "    control._stairs.append(((av(-1,-1,-1), av( 0,-1,-1)),\n",
    "                            (av(-1, 0, 0), av( 0, 0, 0))))\n",
    "    control._railings.append(((av(-1,-1,-1), av(-1, 0, 0))))\n",
    "    control._railings.append(((av( 0, 0, 0), av( 0,-1,-1))))\n",
    "    \n",
    "    # top ramp\n",
    "    control._stairs.append(((av( 1, 0, 0), av( 0, 0, 0)),\n",
    "                            (av( 1,-1, 1), av( 0,-1, 1))))\n",
    "    control._railings.append(((av( 1, 0, 0), av( 1,-1, 1))))\n",
    "    control._railings.append(((av( 0,-1, 1), av( 0, 0, 0))))\n",
    "    \n",
    "    # landing\n",
    "    control._stairs.append(((av(-1, 1, 0), av(-1, 0, 0)),\n",
    "                            (av( 0, 1, 0), av( 0, 0, 0))))\n",
    "    control._stairs.append(((av( 0, 1, 0), av( 0, 0, 0)),\n",
    "                            (av( 1, 1, 0), av( 1, 0, 0))))\n",
    "    control._railings.append(((av(-1, 0, 0), av(-1, 1, 0))))\n",
    "    control._railings.append(((av(-1 + railing_width, 1, 0),\n",
    "                               av( 1 - railing_width, 1, 0))))\n",
    "    control._railings.append(((av( 1, 1, 0), av( 1, 0, 0))))\n",
    "    control._railings.append(((av( railing_width, 0, 0),\n",
    "                               av(-railing_width, 0, 0))))\n",
    "\n",
    "    return control\n",
    "\n",
    "def catwalk():\n",
    "    control = Mesh.lattice(nx=2, ny=2, nz=2)\n",
    "    av = lambda x, y, z: control.av(vec3(x, y, z))\n",
    "\n",
    "    control._stairs = []\n",
    "    control._railings = []\n",
    "    control._stairs.append(((av(-1,-1,-1), av( 1,-1,-1)),\n",
    "                            (av(-1, 1,-1), av( 1, 1,-1))))\n",
    "    control._railings.append((av(-1,-1,-1), av( 1,-1,-1)))\n",
    "\n",
    "    return control\n",
    "\n",
    "\n",
    "def test():\n",
    "\n",
    "    def deform(box):\n",
    "        controls = {i: v for i, v in enumerate(box.vertices)}\n",
    "        \n",
    "        constraints = {}\n",
    "        x, o = vec3(-1,-1, 1), vec3.U(-1)\n",
    "        constraints[control._fp(x)] = x + o\n",
    "        for x in (vec3(-1,-1,-1), vec3( 1,-1,-1), vec3( 1, 1,-1), vec3(-1, 1,-1)):\n",
    "            constraints[control._fp(x)] = x\n",
    "        print(constraints)\n",
    "\n",
    "        return box.deform(constraints, inplace=True)\n",
    "\n",
    "    sb = switchback()\n",
    "    x = TForm(t=vec3.O(), metas=[Stairs(sb), Railings(sb), WireMesh(sb)])\n",
    "\n",
    "    #control = deform(control)\n",
    "\n",
    "    cw = catwalk()\n",
    "    y = TForm(t=vec3.Y(-2),\n",
    "              metas=[Stairs(cw), Railings(cw), WireMesh(cw)])\n",
    "    z = TForm(t=(vec3.Y(-2) + vec3.Z(2) + vec3.X(0.5)), s=vec3( 0.5, 1, 1),\n",
    "              metas=[Stairs(cw), Railings(cw), WireMesh(cw)])\n",
    "\n",
    "    tf = TForm()\n",
    "    for o in (x, y, z):\n",
    "        tf.add(o)\n",
    "    show(MetaScene(tf))\n",
    "\n",
    "\n",
    "test()"
   ]
  },
  {
   "cell_type": "code",
   "execution_count": 9,
   "metadata": {},
   "outputs": [
    {
     "name": "stdout",
     "output_type": "stream",
     "text": [
      "Building Shader 1:<meshmaker.mgl.MainShader object at 0x7f3f4d4fe4a8>\n",
      "Building Shader 2:<meshmaker.mgl.EdgeShader object at 0x7f3f4d4fea90>\n",
      "Building Shader 3:<meshmaker.mgl.WireShader object at 0x7f3f4d5071d0>\n",
      "Loaded texture: generic_13 (../resources/textures/generics/generic_13.png)\n",
      "Loaded texture: generic_8 (../resources/textures/generics/generic_8.png)\n",
      "Loaded texture: generic_9 (../resources/textures/generics/generic_9.png)\n"
     ]
    }
   ],
   "source": [
    "control = switchback()\n",
    "show(MetaScene(TForm(metas=[Stairs(control), Railings(control), WireMesh(control)])))"
   ]
  },
  {
   "cell_type": "markdown",
   "metadata": {},
   "source": [
    "# MAKE A LATTICE CLASS TO SERVE AS BASE CONTROL MESH WHICH DEFORMS NICELY BECAUSE CONNECTIVITY IS PREDICTABLE "
   ]
  },
  {
   "cell_type": "code",
   "execution_count": 10,
   "metadata": {},
   "outputs": [
    {
     "name": "stdout",
     "output_type": "stream",
     "text": [
      "Building Shader 1:<meshmaker.mgl.MainShader object at 0x7f3f4d4fe4a8>\n",
      "Building Shader 2:<meshmaker.mgl.EdgeShader object at 0x7f3f4d4fea90>\n",
      "Building Shader 3:<meshmaker.mgl.WireShader object at 0x7f3f4d5071d0>\n",
      "Loaded texture: generic_13 (../resources/textures/generics/generic_13.png)\n",
      "Loaded texture: generic_0 (../resources/textures/generics/generic_0.png)\n",
      "Loaded texture: generic_8 (../resources/textures/generics/generic_8.png)\n",
      "Loaded texture: generic_9 (../resources/textures/generics/generic_9.png)\n"
     ]
    }
   ],
   "source": [
    "def rapture():\n",
    "    control = Mesh()\n",
    "    control._stairs = []\n",
    "    control._railings = []\n",
    "    av = lambda x, y, z: control.av(vec3(x, y, z))\n",
    "    \n",
    "    topfloor = control.af([av(-1,-1, 1), av( 0,-1, 1),\n",
    "                           av( 0, 1, 1), av(-1, 1, 1)])\n",
    "    botfloor = control.af([av( 0,-1, 0), av( 2,-1, 0),\n",
    "                           av( 2, 1, 0), av( 0, 1, 0)])\n",
    "\n",
    "    a, b, c, d = (av( 1,-1, 0), av( 1, 0 - 0.5, 0),\n",
    "                  av( 0,-1, 1), av( 0, 0 - 0.5, 1))\n",
    "    control._stairs.append(((a, b), (c, d)))\n",
    "    control._railings.append((a, c))\n",
    "    control._railings.append((d, b))\n",
    "    \n",
    "    a, b, c, d = (av( 1, 0 + 0.5, 0), av( 1, 1, 0),\n",
    "                  av( 0, 0 + 0.5, 1), av( 0, 1, 1))\n",
    "    control._stairs.append(((a, b), (c, d)))\n",
    "    control._railings.append((a, c))\n",
    "    control._railings.append((d, b))\n",
    "    \n",
    "    metas = [MetaMesh(control), Stairs(control), Railings(control)]\n",
    "    return MetaScene(TForm(metas=metas))\n",
    "    \n",
    "show(rapture())"
   ]
  },
  {
   "cell_type": "code",
   "execution_count": 26,
   "metadata": {},
   "outputs": [
    {
     "name": "stdout",
     "output_type": "stream",
     "text": [
      "Building Shader 1:<meshmaker.mgl.MainShader object at 0x7fce4aa274a8>\n",
      "Building Shader 2:<meshmaker.mgl.EdgeShader object at 0x7fce4aa27a90>\n",
      "Building Shader 3:<meshmaker.mgl.WireShader object at 0x7fce4aa171d0>\n",
      "Loaded texture: generic_0 (../resources/textures/generics/generic_0.png)\n"
     ]
    }
   ],
   "source": [
    "a = Mesh.cube_mesh()\n",
    "vec3.Z(-1).trnps(vec3(2, 2, 1).sclps(a.vertices))\n",
    "\n",
    "b = Mesh.cube_mesh()\n",
    "\n",
    "c = Mesh.cube_mesh()\n",
    "vec3(0.5, 3, 1).sclps(c.vertices)\n",
    "\n",
    "show(a.difference(b).difference(c))"
   ]
  },
  {
   "cell_type": "code",
   "execution_count": 27,
   "metadata": {},
   "outputs": [
    {
     "name": "stdout",
     "output_type": "stream",
     "text": [
      "Building Shader 1:<meshmaker.mgl.MainShader object at 0x7fce4aa274a8>\n",
      "Building Shader 2:<meshmaker.mgl.EdgeShader object at 0x7fce4aa27a90>\n",
      "Building Shader 3:<meshmaker.mgl.WireShader object at 0x7fce4aa171d0>\n",
      "Loaded texture: generic_0 (../resources/textures/generics/generic_0.png)\n"
     ]
    }
   ],
   "source": [
    "control = Mesh()\n",
    "\n",
    "rim = vec3.O().ring(4, 4, False)\n",
    "irim = Loops([rim]).offset(1).loops[0]\n",
    "\n",
    "floor = control.bridge(rim, irim)\n",
    "#floor = control.edgeloopsplit(0, 1)\n",
    "\n",
    "show(control)"
   ]
  },
  {
   "cell_type": "code",
   "execution_count": null,
   "metadata": {},
   "outputs": [],
   "source": []
  }
 ],
 "metadata": {
  "kernelspec": {
   "display_name": "Python 3",
   "language": "python",
   "name": "python3"
  },
  "language_info": {
   "codemirror_mode": {
    "name": "ipython",
    "version": 3
   },
   "file_extension": ".py",
   "mimetype": "text/x-python",
   "name": "python",
   "nbconvert_exporter": "python",
   "pygments_lexer": "ipython3",
   "version": "3.7.1"
  }
 },
 "nbformat": 4,
 "nbformat_minor": 2
}
