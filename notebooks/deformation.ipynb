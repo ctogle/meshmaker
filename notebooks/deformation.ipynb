{
 "cells": [
  {
   "cell_type": "code",
   "execution_count": 2,
   "metadata": {},
   "outputs": [],
   "source": [
    "import numpy as np\n",
    "np.seterr(all='raise')\n",
    "import sys\n",
    "sys.path.append('../')\n",
    "\n",
    "from meshmaker.base import Base, Laziness\n",
    "from meshmaker.model import Model\n",
    "from meshmaker.mesh import Mesh\n",
    "from meshmaker.pmesh import ParamMesh, MetaMesh, MetaScene\n",
    "from meshmaker.seam import Seam\n",
    "from meshmaker.tform import TForm\n",
    "from meshmaker.vec3 import vec3\n",
    "from meshmaker.quat import quat\n",
    "from meshmaker.planargraph import planargraph\n",
    "#from meshmaker.geometry import batch, slide, loop_offset, loop_normal, loop_contains, isnear, near, loopO\n",
    "from meshmaker.geometry import batch, slide, isnear, near, loop_normal, bbox\n",
    "from meshmaker.mgl import show, MainShader, EdgeShader, WireShader\n",
    "from meshmaker.plt import *\n",
    "from collections import defaultdict\n",
    "import json\n",
    "from functools import partial\n",
    "\n",
    "show = partial(show, programs=[MainShader(), EdgeShader(), WireShader(color=vec3.U().yz())])"
   ]
  },
  {
   "cell_type": "code",
   "execution_count": 2,
   "metadata": {},
   "outputs": [
    {
     "name": "stdout",
     "output_type": "stream",
     "text": [
      "Building Shader 1:<meshmaker.mgl.MainShader object at 0x7fb9341b1550>\n",
      "Building Shader 2:<meshmaker.mgl.EdgeShader object at 0x7fb9341b17b8>\n",
      "Building Shader 3:<meshmaker.mgl.WireShader object at 0x7fb9341b1d68>\n",
      "Loaded texture: generic_0 (../resources/textures/generics/generic_0.png)\n"
     ]
    }
   ],
   "source": [
    "#box = Mesh.cube_mesh2().subdivide().subdivide().subdivide().smooth()\n",
    "box = Mesh.cube_mesh2().subdivide().subdivide().subdivide()\n",
    "box.smooth(inplace=True)\n",
    "box.normals = box.vertex_normals(smooth=True)\n",
    "box.uvs = box.vertex_uvs(seams=box.angle_seams(0))\n",
    "show(box)"
   ]
  },
  {
   "cell_type": "markdown",
   "metadata": {},
   "source": [
    "# twisted cylinder example"
   ]
  },
  {
   "cell_type": "code",
   "execution_count": 2,
   "metadata": {},
   "outputs": [
    {
     "name": "stderr",
     "output_type": "stream",
     "text": [
      "/home/cogle/dev/mine/meshmaker/meshmaker/mesh.py:324: FutureWarning: `rcond` parameter will change to the default of machine precision times ``max(M, N)`` where M and N are the input matrix dimensions.\n",
      "To use the future default and silence this warning we advise to pass `rcond=None`, to keep using the old, explicitly pass `rcond=-1`.\n",
      "  xyz, _, _, _ = np.linalg.lstsq(L, delta)\n"
     ]
    },
    {
     "name": "stdout",
     "output_type": "stream",
     "text": [
      "Building Shader 1:<meshmaker.mgl.MainShader object at 0x7fcc0a460ac8>\n",
      "Building Shader 2:<meshmaker.mgl.EdgeShader object at 0x7fcc0a460d30>\n",
      "Building Shader 3:<meshmaker.mgl.WireShader object at 0x7fcc0a439320>\n",
      "Loaded texture: generic_0 (../resources/textures/generics/generic_0.png)\n"
     ]
    }
   ],
   "source": [
    "#box = Mesh.cube_mesh2()\n",
    "box = Mesh.cylinder_mesh(h=4, n=8, closed=True, meta='generic_14')\n",
    "\n",
    "def someconstraints(mesh):\n",
    "    # make some constraints\n",
    "    fN = mesh.face_normals()\n",
    "    constraints = {}\n",
    "    for x in (mesh.nearest(vec3.X(-1)), mesh.nearest(vec3.X(+1))):\n",
    "        xN = vec3.sum([fN[f] for f in mesh.v2f[x]]).nrm()\n",
    "        constraints[x] = mesh.vertices[x] + xN\n",
    "    return constraints\n",
    "\n",
    "def someconstraints2(mesh):\n",
    "    # make some constraints\n",
    "    constraints = {}\n",
    "    q = quat.rotz(np.pi / 2)\n",
    "    #q = quat.rotz(0)\n",
    "    fN = mesh.face_normals()\n",
    "    bot, top = [], []\n",
    "    for f, face in mesh:\n",
    "        N = fN[f]\n",
    "        if isnear(N.z, 1):\n",
    "            top.extend(face)\n",
    "        elif isnear(N.z, -1):\n",
    "            bot.extend(face)\n",
    "    botrot = [mesh.vertices[v].cp() for v in bot]\n",
    "    toprot = q.rot([mesh.vertices[v].cp() for v in top])\n",
    "    for i, v in zip(bot, botrot):\n",
    "        constraints[i] = v\n",
    "    for i, v in zip(top, toprot):\n",
    "        constraints[i] = v\n",
    "    return constraints\n",
    "\n",
    "box = box.subdivide().subdivide().subdivide()\n",
    "\n",
    "box.uvs = box.vertex_uvs(seams=box.angle_seams(np.pi / 2))\n",
    "\n",
    "constraints = someconstraints2(box)\n",
    "uvs = box.uvs\n",
    "box = box.deform(constraints)\n",
    "box.uvs = uvs\n",
    "#box.uvs = box.vertex_uvs(seams=box.angle_seams(np.pi / 2))\n",
    "#box = box.subdivide().smooth().deform(constraints).subdivide().smooth()\n",
    "\n",
    "show((box, Mesh.cube_mesh(0.1)))"
   ]
  },
  {
   "cell_type": "markdown",
   "metadata": {},
   "source": [
    "# twisted cube example "
   ]
  },
  {
   "cell_type": "code",
   "execution_count": 10,
   "metadata": {},
   "outputs": [
    {
     "name": "stdout",
     "output_type": "stream",
     "text": [
      "Building Shader 1:<meshmaker.mgl.MainShader object at 0x7f68926b8278>\n",
      "Building Shader 2:<meshmaker.mgl.EdgeShader object at 0x7f68790c9198>\n",
      "Building Shader 3:<meshmaker.mgl.WireShader object at 0x7f68790c9400>\n",
      "Loaded texture: generic_0 (../resources/textures/generics/generic_0.png)\n"
     ]
    }
   ],
   "source": [
    "box = Mesh.cube_mesh2()\n",
    "\n",
    "box = box.subdivide()\n",
    "\n",
    "controls = {i: v for i, v in enumerate(box.vertices)}\n",
    "constraints = {}\n",
    "\n",
    "#box = box.subdivide()\n",
    "#box = box.subdivide()\n",
    "\n",
    "#constraints[0].trn(vec3.U(-1))\n",
    "#constraints[6] += vec3.U(+1)\n",
    "#constraints[6].trn(vec3.U(+1))\n",
    "\n",
    "for i, v in controls.items():\n",
    "    if v.z >= 1:\n",
    "        constraints[i] = v.cp()\n",
    "\n",
    "#top = [v for i, v in control.items() if v.z >= 1]\n",
    "#(vec3.X() + vec3.Z()).trnps(quat.av(np.pi / 2, vec3.Y()).rot(top))\n",
    "top = list(constraints.values())\n",
    "quat.rotz(np.pi / 3).rot(top)\n",
    "\n",
    "box = box.deform(constraints)\n",
    "\n",
    "#box = box.subdivide()\n",
    "#box = box.subdivide()\n",
    "\n",
    "show(box)"
   ]
  },
  {
   "cell_type": "markdown",
   "metadata": {},
   "source": [
    "# bent rod example"
   ]
  },
  {
   "cell_type": "code",
   "execution_count": 14,
   "metadata": {},
   "outputs": [
    {
     "name": "stdout",
     "output_type": "stream",
     "text": [
      "Building Shader 1:<meshmaker.mgl.MainShader object at 0x7f68926b8278>\n",
      "Building Shader 2:<meshmaker.mgl.EdgeShader object at 0x7f68790c9198>\n",
      "Building Shader 3:<meshmaker.mgl.WireShader object at 0x7f68790c9400>\n",
      "Loaded texture: generic_0 (../resources/textures/generics/generic_0.png)\n"
     ]
    }
   ],
   "source": [
    "rod = Mesh.cube_mesh2()\n",
    "\n",
    "rod.edgeloopsplit(0, 4)\n",
    "\n",
    "show(rod)"
   ]
  },
  {
   "cell_type": "markdown",
   "metadata": {},
   "source": [
    "# trash line "
   ]
  },
  {
   "cell_type": "code",
   "execution_count": 96,
   "metadata": {},
   "outputs": [],
   "source": [
    "class Deformer:\n",
    "    \n",
    "    def __init__(self, mesh, control=None):\n",
    "        self.mesh = mesh\n",
    "        self.control = control\n",
    "\n",
    "        self.weights = np.zeros((len(self.mesh.vertices), len(self.control.vertices)))\n",
    "        for i, u in enumerate(self.mesh.vertices):\n",
    "            if u is not None:\n",
    "                for j, v in enumerate(self.control.vertices):\n",
    "                    if v is not None:\n",
    "                        self.weights[i, j] = -np.log(1 + u.d(v))\n",
    "                        #self.weights[i, j] = np.exp(-u.d(v))\n",
    "                        #self.weights[i, j] = 1 / (u.d(v) + 1)\n",
    "                #self.weights[i, :] = [1 if x == self.weights[i, :].max() else 0 for x in self.weights[i, :]]\n",
    "                #print(self.weights[i, :])\n",
    "                #self.weights[i, np.where((self.weights[i, :] - self.weights[i, :].max()) < -0.1)] = 0\n",
    "                self.weights[i, :] /= self.weights[i, :].sum()\n",
    "\n",
    "    def deform(self, updated_control):\n",
    "        \"\"\"Apply deformation to self.mesh\"\"\"\n",
    "        deformation = defaultdict(lambda : vec3.O())\n",
    "        \n",
    "        print(len(self.control.vertices))\n",
    "        print(len(updated_control.vertices))\n",
    "        \n",
    "        for i, u in enumerate(self.mesh.vertices):\n",
    "            if u is not None:\n",
    "                for j, v in enumerate(self.control.vertices):\n",
    "                    dv = updated_control.vertices[j] - v\n",
    "                    deformation[i].trn(dv * self.weights[i, j])\n",
    "        for i, dv in deformation.items():\n",
    "            self.mesh.vertices[i].trn(dv)"
   ]
  },
  {
   "cell_type": "code",
   "execution_count": 54,
   "metadata": {},
   "outputs": [
    {
     "name": "stdout",
     "output_type": "stream",
     "text": [
      "8\n",
      "8\n",
      "Building Shader 1:<meshmaker.mgl.MainShader object at 0x7f510fdc3ef0>\n",
      "Building Shader 2:<meshmaker.mgl.EdgeShader object at 0x7f510fdc3eb8>\n",
      "Building Shader 3:<meshmaker.mgl.WireShader object at 0x7f510fdcf6d8>\n",
      "Loaded texture: generic_0 (../resources/textures/generics/generic_0.png)\n"
     ]
    }
   ],
   "source": [
    "box = Mesh.cube_mesh()\n",
    "vec3(1, 0.2, 0.1).sclps(box.vertices)\n",
    "\n",
    "controller = box.cp()\n",
    "\n",
    "box = box.subdivide()\n",
    "box = box.subdivide()\n",
    "box = box.subdivide()\n",
    "box = box.subdivide()\n",
    "\n",
    "original = box.cp()\n",
    "\n",
    "def deform_controller(c):\n",
    "    face = [c.vertices[v] for v in c.faces[3]]\n",
    "    vec3(1, 3, 3).sclps(face)\n",
    "    return c\n",
    "\n",
    "deformer = Deformer(box, controller)\n",
    "    \n",
    "updated = deform_controller(controller.cp())\n",
    "\n",
    "\n",
    "deformer.deform(updated)\n",
    "\n",
    "#box.normals = box.vertex_normals(smooth=True)\n",
    "box.uvs = box.vertex_uvs(seams=box.angle_seams())\n",
    "\n",
    "wires = []\n",
    "wires.extend([[updated.vertices[i], updated.vertices[j]] for i, j in updated.e2f])\n",
    "wires.extend([[deformer.control.vertices[i], deformer.control.vertices[j]] for i, j in deformer.control.e2f])\n",
    "box.wires = lambda tf: [tf.transform(wire) for wire in wires]\n",
    "\n",
    "#box = MetaMesh(box, texture='generic_14')\n",
    "#original = MetaMesh(original, texture='generic_16')\n",
    "#show(MetaScene(TForm(metas=[box, original])))\n",
    "\n",
    "show(box)"
   ]
  },
  {
   "cell_type": "code",
   "execution_count": 7,
   "metadata": {},
   "outputs": [],
   "source": [
    "def deform(mesh, lattice):\n",
    "    \"\"\"Deform mesh vertices based on lattice\"\"\"\n",
    "    pass"
   ]
  },
  {
   "cell_type": "code",
   "execution_count": null,
   "metadata": {},
   "outputs": [],
   "source": []
  }
 ],
 "metadata": {
  "kernelspec": {
   "display_name": "Python 3",
   "language": "python",
   "name": "python3"
  },
  "language_info": {
   "codemirror_mode": {
    "name": "ipython",
    "version": 3
   },
   "file_extension": ".py",
   "mimetype": "text/x-python",
   "name": "python",
   "nbconvert_exporter": "python",
   "pygments_lexer": "ipython3",
   "version": "3.7.1"
  }
 },
 "nbformat": 4,
 "nbformat_minor": 2
}
